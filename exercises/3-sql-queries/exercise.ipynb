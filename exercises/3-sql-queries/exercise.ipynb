{
 "cells": [
  {
   "cell_type": "markdown",
   "metadata": {},
   "source": [
    "# Exercise: Analyzing Chinook Database\n",
    "\n",
    "Preparation I've done:\n",
    " - Retrieve the dataset and load it\n",
    " - Load the %sql extension and point it at the database\n",
    " - Display the tables and an example query\n",
    "\n",
    "Additional steps you might take:\n",
    " - Add libraries for visualization (matplotlib, seaborn, plotly)\n",
    " - Add libraries for statistics (numpy)\n",
    " - Explore the dataset using SQL and/or pandas\n",
    "\n",
    "----"
   ]
  },
  {
   "cell_type": "code",
   "execution_count": 4,
   "metadata": {},
   "outputs": [
    {
     "name": "stdout",
     "output_type": "stream",
     "text": [
      "The sql extension is already loaded. To reload it, use:\n",
      "  %reload_ext sql\n"
     ]
    },
    {
     "data": {
      "text/html": [
       "<span style=\"None\">Running query in &#x27;sqlite:///chinook.sqlite&#x27;</span>"
      ],
      "text/plain": [
       "Running query in 'sqlite:///chinook.sqlite'"
      ]
     },
     "metadata": {},
     "output_type": "display_data"
    },
    {
     "data": {
      "text/html": [
       "<table>\n",
       "    <thead>\n",
       "        <tr>\n",
       "            <th>name</th>\n",
       "        </tr>\n",
       "    </thead>\n",
       "    <tbody>\n",
       "        <tr>\n",
       "            <td>albums</td>\n",
       "        </tr>\n",
       "        <tr>\n",
       "            <td>sqlite_sequence</td>\n",
       "        </tr>\n",
       "        <tr>\n",
       "            <td>artists</td>\n",
       "        </tr>\n",
       "        <tr>\n",
       "            <td>customers</td>\n",
       "        </tr>\n",
       "        <tr>\n",
       "            <td>employees</td>\n",
       "        </tr>\n",
       "        <tr>\n",
       "            <td>genres</td>\n",
       "        </tr>\n",
       "        <tr>\n",
       "            <td>invoices</td>\n",
       "        </tr>\n",
       "        <tr>\n",
       "            <td>invoice_items</td>\n",
       "        </tr>\n",
       "        <tr>\n",
       "            <td>media_types</td>\n",
       "        </tr>\n",
       "        <tr>\n",
       "            <td>playlists</td>\n",
       "        </tr>\n",
       "    </tbody>\n",
       "</table>\n",
       "<span style=\"font-style:italic;text-align:center;\">Truncated to <a href=\"https://jupysql.ploomber.io/en/latest/api/configuration.html#displaylimit\">displaylimit</a> of 10.</span>"
      ],
      "text/plain": [
       "+-----------------+\n",
       "|       name      |\n",
       "+-----------------+\n",
       "|      albums     |\n",
       "| sqlite_sequence |\n",
       "|     artists     |\n",
       "|    customers    |\n",
       "|    employees    |\n",
       "|      genres     |\n",
       "|     invoices    |\n",
       "|  invoice_items  |\n",
       "|   media_types   |\n",
       "|    playlists    |\n",
       "+-----------------+\n",
       "Truncated to displaylimit of 10."
      ]
     },
     "metadata": {},
     "output_type": "display_data"
    },
    {
     "data": {
      "text/html": [
       "<span style=\"None\">Running query in &#x27;sqlite:///chinook.sqlite&#x27;</span>"
      ],
      "text/plain": [
       "Running query in 'sqlite:///chinook.sqlite'"
      ]
     },
     "metadata": {},
     "output_type": "display_data"
    },
    {
     "data": {
      "text/html": [
       "<table>\n",
       "    <thead>\n",
       "        <tr>\n",
       "            <th>AlbumId</th>\n",
       "            <th>Title</th>\n",
       "            <th>ArtistId</th>\n",
       "        </tr>\n",
       "    </thead>\n",
       "    <tbody>\n",
       "        <tr>\n",
       "            <td>1</td>\n",
       "            <td>For Those About To Rock We Salute You</td>\n",
       "            <td>1</td>\n",
       "        </tr>\n",
       "        <tr>\n",
       "            <td>2</td>\n",
       "            <td>Balls to the Wall</td>\n",
       "            <td>2</td>\n",
       "        </tr>\n",
       "        <tr>\n",
       "            <td>3</td>\n",
       "            <td>Restless and Wild</td>\n",
       "            <td>2</td>\n",
       "        </tr>\n",
       "        <tr>\n",
       "            <td>4</td>\n",
       "            <td>Let There Be Rock</td>\n",
       "            <td>1</td>\n",
       "        </tr>\n",
       "        <tr>\n",
       "            <td>5</td>\n",
       "            <td>Big Ones</td>\n",
       "            <td>3</td>\n",
       "        </tr>\n",
       "    </tbody>\n",
       "</table>"
      ],
      "text/plain": [
       "+---------+---------------------------------------+----------+\n",
       "| AlbumId |                 Title                 | ArtistId |\n",
       "+---------+---------------------------------------+----------+\n",
       "|    1    | For Those About To Rock We Salute You |    1     |\n",
       "|    2    |           Balls to the Wall           |    2     |\n",
       "|    3    |           Restless and Wild           |    2     |\n",
       "|    4    |           Let There Be Rock           |    1     |\n",
       "|    5    |                Big Ones               |    3     |\n",
       "+---------+---------------------------------------+----------+"
      ]
     },
     "metadata": {},
     "output_type": "display_data"
    }
   ],
   "source": [
    "# Load chinook dataset and query it using SQL magic into pandas dataframes\n",
    "import pandas as pd\n",
    "import sqlite3\n",
    "%load_ext sql\n",
    "\n",
    "# Load data\n",
    "conn = sqlite3.connect(\"chinook.sqlite\")\n",
    "\n",
    "# Tell %sql about the database\n",
    "%sql sqlite:///chinook.sqlite\n",
    "\n",
    "# Read data into a Pandas DataFrame\n",
    "tables = %sql SELECT name FROM sqlite_master WHERE type='table';\n",
    "\n",
    "# Print head\n",
    "display(tables)\n",
    "\n",
    "# Query to get the first 5 rows of the `albums` table\n",
    "result = %sql SELECT * FROM albums LIMIT 5;\n",
    "\n",
    "# Display query result, note that Pandas DataFrame is returned!\n",
    "display(result)\n"
   ]
  },
  {
   "cell_type": "markdown",
   "metadata": {},
   "source": [
    "1. Retrieve a list of all the tracks in the database, displaying only the track name and the name of the album it belongs to. Limit the result to the first 5 rows.\n",
    "   > Operations: `SELECT`"
   ]
  },
  {
   "cell_type": "code",
   "execution_count": 7,
   "metadata": {},
   "outputs": [
    {
     "data": {
      "text/html": [
       "<span style=\"None\">Running query in &#x27;sqlite:///chinook.sqlite&#x27;</span>"
      ],
      "text/plain": [
       "Running query in 'sqlite:///chinook.sqlite'"
      ]
     },
     "metadata": {},
     "output_type": "display_data"
    },
    {
     "data": {
      "text/html": [
       "<table>\n",
       "    <thead>\n",
       "        <tr>\n",
       "            <th>Name</th>\n",
       "            <th>Title</th>\n",
       "        </tr>\n",
       "    </thead>\n",
       "    <tbody>\n",
       "        <tr>\n",
       "            <td>For Those About To Rock (We Salute You)</td>\n",
       "            <td>For Those About To Rock We Salute You</td>\n",
       "        </tr>\n",
       "        <tr>\n",
       "            <td>Put The Finger On You</td>\n",
       "            <td>For Those About To Rock We Salute You</td>\n",
       "        </tr>\n",
       "        <tr>\n",
       "            <td>Let's Get It Up</td>\n",
       "            <td>For Those About To Rock We Salute You</td>\n",
       "        </tr>\n",
       "        <tr>\n",
       "            <td>Inject The Venom</td>\n",
       "            <td>For Those About To Rock We Salute You</td>\n",
       "        </tr>\n",
       "        <tr>\n",
       "            <td>Snowballed</td>\n",
       "            <td>For Those About To Rock We Salute You</td>\n",
       "        </tr>\n",
       "    </tbody>\n",
       "</table>"
      ],
      "text/plain": [
       "+-----------------------------------------+---------------------------------------+\n",
       "|                   Name                  |                 Title                 |\n",
       "+-----------------------------------------+---------------------------------------+\n",
       "| For Those About To Rock (We Salute You) | For Those About To Rock We Salute You |\n",
       "|          Put The Finger On You          | For Those About To Rock We Salute You |\n",
       "|             Let's Get It Up             | For Those About To Rock We Salute You |\n",
       "|             Inject The Venom            | For Those About To Rock We Salute You |\n",
       "|                Snowballed               | For Those About To Rock We Salute You |\n",
       "+-----------------------------------------+---------------------------------------+"
      ]
     },
     "metadata": {},
     "output_type": "display_data"
    }
   ],
   "source": [
    "q1 = %sql SELECT tracks.Name, albums.Title \\\n",
    "    FROM tracks \\\n",
    "    JOIN albums \\\n",
    "        ON tracks.AlbumId = albums.AlbumId \\\n",
    "    LIMIT 5;\n",
    "display(q1)"
   ]
  },
  {
   "cell_type": "markdown",
   "metadata": {},
   "source": [
    "2. Find the total number of customers from each country. Display the country name and the corresponding count. Order the results by the count in descending order.\n",
    "   > Operations: `SELECT`, `COUNT`, `GROUP BY`, `ORDER BY`"
   ]
  },
  {
   "cell_type": "code",
   "execution_count": 14,
   "metadata": {},
   "outputs": [
    {
     "data": {
      "text/html": [
       "<span style=\"None\">Running query in &#x27;sqlite:///chinook.sqlite&#x27;</span>"
      ],
      "text/plain": [
       "Running query in 'sqlite:///chinook.sqlite'"
      ]
     },
     "metadata": {},
     "output_type": "display_data"
    },
    {
     "data": {
      "text/html": [
       "<table>\n",
       "    <thead>\n",
       "        <tr>\n",
       "            <th>Country</th>\n",
       "            <th>Customer_Count</th>\n",
       "        </tr>\n",
       "    </thead>\n",
       "    <tbody>\n",
       "        <tr>\n",
       "            <td>USA</td>\n",
       "            <td>13</td>\n",
       "        </tr>\n",
       "        <tr>\n",
       "            <td>Canada</td>\n",
       "            <td>8</td>\n",
       "        </tr>\n",
       "        <tr>\n",
       "            <td>France</td>\n",
       "            <td>5</td>\n",
       "        </tr>\n",
       "        <tr>\n",
       "            <td>Brazil</td>\n",
       "            <td>5</td>\n",
       "        </tr>\n",
       "        <tr>\n",
       "            <td>Germany</td>\n",
       "            <td>4</td>\n",
       "        </tr>\n",
       "        <tr>\n",
       "            <td>United Kingdom</td>\n",
       "            <td>3</td>\n",
       "        </tr>\n",
       "        <tr>\n",
       "            <td>Portugal</td>\n",
       "            <td>2</td>\n",
       "        </tr>\n",
       "        <tr>\n",
       "            <td>India</td>\n",
       "            <td>2</td>\n",
       "        </tr>\n",
       "        <tr>\n",
       "            <td>Czech Republic</td>\n",
       "            <td>2</td>\n",
       "        </tr>\n",
       "        <tr>\n",
       "            <td>Sweden</td>\n",
       "            <td>1</td>\n",
       "        </tr>\n",
       "    </tbody>\n",
       "</table>\n",
       "<span style=\"font-style:italic;text-align:center;\">Truncated to <a href=\"https://jupysql.ploomber.io/en/latest/api/configuration.html#displaylimit\">displaylimit</a> of 10.</span>"
      ],
      "text/plain": [
       "+----------------+----------------+\n",
       "|    Country     | Customer_Count |\n",
       "+----------------+----------------+\n",
       "|      USA       |       13       |\n",
       "|     Canada     |       8        |\n",
       "|     France     |       5        |\n",
       "|     Brazil     |       5        |\n",
       "|    Germany     |       4        |\n",
       "| United Kingdom |       3        |\n",
       "|    Portugal    |       2        |\n",
       "|     India      |       2        |\n",
       "| Czech Republic |       2        |\n",
       "|     Sweden     |       1        |\n",
       "+----------------+----------------+\n",
       "Truncated to displaylimit of 10."
      ]
     },
     "metadata": {},
     "output_type": "display_data"
    }
   ],
   "source": [
    "q2 = %sql SELECT Country, Count(CustomerId) as Customer_Count FROM customers \\\n",
    "    GROUP BY Country \\\n",
    "    ORDER BY Customer_Count DESC;\n",
    "display(q2)"
   ]
  },
  {
   "cell_type": "markdown",
   "metadata": {},
   "source": [
    "3. Identify the top 5 genres with the highest number of tracks. Display the genre name along with the total number of tracks for each genre.\n",
    "   > Operations: `SELECT`, `COUNT`, `GROUP BY`, `ORDER BY`"
   ]
  },
  {
   "cell_type": "code",
   "execution_count": 31,
   "metadata": {},
   "outputs": [
    {
     "data": {
      "text/html": [
       "<span style=\"None\">Running query in &#x27;sqlite:///chinook.sqlite&#x27;</span>"
      ],
      "text/plain": [
       "Running query in 'sqlite:///chinook.sqlite'"
      ]
     },
     "metadata": {},
     "output_type": "display_data"
    },
    {
     "data": {
      "text/html": [
       "<table>\n",
       "    <thead>\n",
       "        <tr>\n",
       "            <th>Genre_Name</th>\n",
       "            <th>Track_Count</th>\n",
       "        </tr>\n",
       "    </thead>\n",
       "    <tbody>\n",
       "        <tr>\n",
       "            <td>Rock</td>\n",
       "            <td>1297</td>\n",
       "        </tr>\n",
       "        <tr>\n",
       "            <td>Latin</td>\n",
       "            <td>579</td>\n",
       "        </tr>\n",
       "        <tr>\n",
       "            <td>Metal</td>\n",
       "            <td>374</td>\n",
       "        </tr>\n",
       "        <tr>\n",
       "            <td>Alternative & Punk</td>\n",
       "            <td>332</td>\n",
       "        </tr>\n",
       "        <tr>\n",
       "            <td>Jazz</td>\n",
       "            <td>130</td>\n",
       "        </tr>\n",
       "        <tr>\n",
       "            <td>TV Shows</td>\n",
       "            <td>93</td>\n",
       "        </tr>\n",
       "        <tr>\n",
       "            <td>Blues</td>\n",
       "            <td>81</td>\n",
       "        </tr>\n",
       "        <tr>\n",
       "            <td>Classical</td>\n",
       "            <td>74</td>\n",
       "        </tr>\n",
       "        <tr>\n",
       "            <td>Drama</td>\n",
       "            <td>64</td>\n",
       "        </tr>\n",
       "        <tr>\n",
       "            <td>R&B/Soul</td>\n",
       "            <td>61</td>\n",
       "        </tr>\n",
       "    </tbody>\n",
       "</table>\n",
       "<span style=\"font-style:italic;text-align:center;\">Truncated to <a href=\"https://jupysql.ploomber.io/en/latest/api/configuration.html#displaylimit\">displaylimit</a> of 10.</span>"
      ],
      "text/plain": [
       "+--------------------+-------------+\n",
       "|     Genre_Name     | Track_Count |\n",
       "+--------------------+-------------+\n",
       "|        Rock        |     1297    |\n",
       "|       Latin        |     579     |\n",
       "|       Metal        |     374     |\n",
       "| Alternative & Punk |     332     |\n",
       "|        Jazz        |     130     |\n",
       "|      TV Shows      |      93     |\n",
       "|       Blues        |      81     |\n",
       "|     Classical      |      74     |\n",
       "|       Drama        |      64     |\n",
       "|      R&B/Soul      |      61     |\n",
       "+--------------------+-------------+\n",
       "Truncated to displaylimit of 10."
      ]
     },
     "metadata": {},
     "output_type": "display_data"
    }
   ],
   "source": [
    "q3 = %sql SELECT genres.Name AS Genre_Name, COUNT(TrackID) AS Track_Count FROM tracks \\\n",
    "    JOIN genres ON tracks.GenreId = genres.GenreId \\\n",
    "    GROUP BY Genre_Name \\\n",
    "    ORDER BY Track_Count DESC\n",
    "display(q3)"
   ]
  },
  {
   "cell_type": "markdown",
   "metadata": {},
   "source": [
    "4. Determine the average invoice total for each customer, considering both the album and individual track purchases. Display the customer's first and last name along with the average invoice total. Order the results by the average invoice total in descending order.\n",
    "   > Operations: `SELECT`, `AVG`, `JOIN`, `GROUP BY`, `ORDER BY`"
   ]
  },
  {
   "cell_type": "code",
   "execution_count": 37,
   "metadata": {},
   "outputs": [
    {
     "data": {
      "text/html": [
       "<span style=\"None\">Running query in &#x27;sqlite:///chinook.sqlite&#x27;</span>"
      ],
      "text/plain": [
       "Running query in 'sqlite:///chinook.sqlite'"
      ]
     },
     "metadata": {},
     "output_type": "display_data"
    },
    {
     "data": {
      "text/html": [
       "<table>\n",
       "    <thead>\n",
       "        <tr>\n",
       "            <th>Customer_Name</th>\n",
       "            <th>Avg_Invoice_Total</th>\n",
       "        </tr>\n",
       "    </thead>\n",
       "    <tbody>\n",
       "        <tr>\n",
       "            <td>Helena Holý</td>\n",
       "            <td>7.09</td>\n",
       "        </tr>\n",
       "        <tr>\n",
       "            <td>Richard Cunningham</td>\n",
       "            <td>6.8</td>\n",
       "        </tr>\n",
       "        <tr>\n",
       "            <td>Luis Rojas</td>\n",
       "            <td>6.66</td>\n",
       "        </tr>\n",
       "        <tr>\n",
       "            <td>Ladislav Kovács</td>\n",
       "            <td>6.52</td>\n",
       "        </tr>\n",
       "        <tr>\n",
       "            <td>Hugh O'Reilly</td>\n",
       "            <td>6.52</td>\n",
       "        </tr>\n",
       "        <tr>\n",
       "            <td>Frank Ralston</td>\n",
       "            <td>6.23</td>\n",
       "        </tr>\n",
       "        <tr>\n",
       "            <td>Julia Barnett</td>\n",
       "            <td>6.23</td>\n",
       "        </tr>\n",
       "        <tr>\n",
       "            <td>Fynn Zimmermann</td>\n",
       "            <td>6.23</td>\n",
       "        </tr>\n",
       "        <tr>\n",
       "            <td>Puja Srivastava</td>\n",
       "            <td>6.11</td>\n",
       "        </tr>\n",
       "        <tr>\n",
       "            <td>Astrid Gruber</td>\n",
       "            <td>6.09</td>\n",
       "        </tr>\n",
       "    </tbody>\n",
       "</table>\n",
       "<span style=\"font-style:italic;text-align:center;\">Truncated to <a href=\"https://jupysql.ploomber.io/en/latest/api/configuration.html#displaylimit\">displaylimit</a> of 10.</span>"
      ],
      "text/plain": [
       "+--------------------+-------------------+\n",
       "|   Customer_Name    | Avg_Invoice_Total |\n",
       "+--------------------+-------------------+\n",
       "|    Helena Holý     |        7.09       |\n",
       "| Richard Cunningham |        6.8        |\n",
       "|     Luis Rojas     |        6.66       |\n",
       "|  Ladislav Kovács   |        6.52       |\n",
       "|   Hugh O'Reilly    |        6.52       |\n",
       "|   Frank Ralston    |        6.23       |\n",
       "|   Julia Barnett    |        6.23       |\n",
       "|  Fynn Zimmermann   |        6.23       |\n",
       "|  Puja Srivastava   |        6.11       |\n",
       "|   Astrid Gruber    |        6.09       |\n",
       "+--------------------+-------------------+\n",
       "Truncated to displaylimit of 10."
      ]
     },
     "metadata": {},
     "output_type": "display_data"
    }
   ],
   "source": [
    "q4 = %sql SELECT customers.FirstName || ' ' || customers.LastName AS Customer_Name, \\\n",
    "        ROUND(AVG(invoices.Total), 2) AS Avg_Invoice_Total \\\n",
    "    FROM customers \\\n",
    "    JOIN invoices ON customers.CustomerId = invoices.CustomerId \\\n",
    "    GROUP BY customers.CustomerId \\\n",
    "    ORDER BY Avg_Invoice_Total DESC;\n",
    "\n",
    "display(q4)"
   ]
  },
  {
   "cell_type": "markdown",
   "metadata": {},
   "source": [
    "5. Identify the customer who spent the most on music purchases. Display the customer's first and last name, along with the total amount spent.\n",
    "   > Operations: `SELECT`, `SUM`, `JOIN`, `GROUP BY`, `ORDER BY`, `LIMIT`"
   ]
  },
  {
   "cell_type": "code",
   "execution_count": 38,
   "metadata": {},
   "outputs": [
    {
     "data": {
      "text/html": [
       "<span style=\"None\">Running query in &#x27;sqlite:///chinook.sqlite&#x27;</span>"
      ],
      "text/plain": [
       "Running query in 'sqlite:///chinook.sqlite'"
      ]
     },
     "metadata": {},
     "output_type": "display_data"
    },
    {
     "data": {
      "text/html": [
       "<table>\n",
       "    <thead>\n",
       "        <tr>\n",
       "            <th>Customer_Name</th>\n",
       "            <th>Total_Spent</th>\n",
       "        </tr>\n",
       "    </thead>\n",
       "    <tbody>\n",
       "        <tr>\n",
       "            <td>Helena Holý</td>\n",
       "            <td>49.62</td>\n",
       "        </tr>\n",
       "    </tbody>\n",
       "</table>"
      ],
      "text/plain": [
       "+---------------+-------------+\n",
       "| Customer_Name | Total_Spent |\n",
       "+---------------+-------------+\n",
       "|  Helena Holý  |    49.62    |\n",
       "+---------------+-------------+"
      ]
     },
     "metadata": {},
     "output_type": "display_data"
    }
   ],
   "source": [
    "q5 = %sql SELECT customers.FirstName || ' ' || customers.LastName AS Customer_Name, \\\n",
    "    SUM(invoices.Total) AS Total_Spent \\\n",
    "    FROM customers \\\n",
    "    JOIN invoices ON customers.CustomerId = invoices.CustomerId \\\n",
    "    GROUP BY customers.CustomerId \\\n",
    "    ORDER BY Total_Spent DESC LIMIT 1;\n",
    "\n",
    "display(q5)"
   ]
  }
 ],
 "metadata": {
  "kernelspec": {
   "display_name": ".venv",
   "language": "python",
   "name": "python3"
  },
  "language_info": {
   "codemirror_mode": {
    "name": "ipython",
    "version": 3
   },
   "file_extension": ".py",
   "mimetype": "text/x-python",
   "name": "python",
   "nbconvert_exporter": "python",
   "pygments_lexer": "ipython3",
   "version": "3.11.7"
  }
 },
 "nbformat": 4,
 "nbformat_minor": 2
}
