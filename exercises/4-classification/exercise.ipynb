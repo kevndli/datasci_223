{
 "cells": [
  {
   "cell_type": "markdown",
   "metadata": {},
   "source": [
    "# Classification on `emnist`\n",
    "\n",
    "## 1. Create `Readme.md` to document your work\n",
    "\n",
    "Explain your choices, process, and outcomes.\n",
    "\n",
    "## 2. Classify all symbols\n",
    "\n",
    "### Choose a model\n",
    "\n",
    "Your choice of model! Choose wisely...\n",
    "\n",
    "### Train away!\n",
    "\n",
    "Is do you need to tune any parameters? Is the model expecting data in a different format?\n",
    "\n",
    "### Evaluate the model\n",
    "\n",
    "Evaluate the models on the test set, analyze the confusion matrix to see where the model performs well and where it struggles.\n",
    "\n",
    "### Investigate subsets\n",
    "\n",
    "On which classes does the model perform well? Poorly? Evaluate again, excluding easily confused symbols (such as 'O' and '0').\n",
    "\n",
    "### Improve performance\n",
    "\n",
    "Brainstorm for improving the performance. This could include trying different architectures, adding more layers, changing the loss function, or using data augmentation techniques.\n",
    "\n",
    "## 2. Classify digits vs. letters model showdown\n",
    "\n",
    "Perform a full showdown classifying digits vs letters:\n",
    "\n",
    "1. Create a column for whether each row is a digit or a letter\n",
    "2. Choose an evaluation metric \n",
    "3. Choose several candidate models to train\n",
    "4. Divide data to reserve a validation set that will NOT be used in training/testing\n",
    "5. K-fold train/test\n",
    "    1. Create train/test splits from the non-validation dataset \n",
    "    2. Train each candidate model (best practice: use the same split for all models)\n",
    "    3. Apply the model the the test split \n",
    "    4. (*Optional*) Perform hyper-parametric search\n",
    "    5. Record the model evaluation metrics\n",
    "    6. Repeat with a new train/test split\n",
    "6. Promote winner, apply model to validation set\n",
    "7. (*Optional*) Perform hyper-parametric search, if applicable\n",
    "8. Report model performance"
   ]
  },
  {
   "cell_type": "markdown",
   "metadata": {},
   "source": [
    "# Classification on `emnist`\n",
    "\n",
    "## 1. Create `Readme.md` to document your work\n",
    "\n",
    "Explain your choices, process, and outcomes.\n",
    "\n",
    "## 2. Classify all symbols\n",
    "\n",
    "### Choose a model\n",
    "\n",
    "Your choice of model! Choose wisely...\n",
    "\n",
    "### Train away!\n",
    "\n",
    "Is do you need to tune any parameters? Is the model expecting data in a different format?\n",
    "\n",
    "### Evaluate the model\n",
    "\n",
    "Evaluate the models on the test set, analyze the confusion matrix to see where the model performs well and where it struggles.\n",
    "\n",
    "### Investigate subsets\n",
    "\n",
    "On which classes does the model perform well? Poorly? Evaluate again, excluding easily confused symbols (such as 'O' and '0').\n",
    "\n",
    "### Improve performance\n",
    "\n",
    "Brainstorm for improving the performance. This could include trying different architectures, adding more layers, changing the loss function, or using data augmentation techniques.\n",
    "\n",
    "## 2. Classify digits vs. letters model showdown\n",
    "\n",
    "Perform a full showdown classifying digits vs letters:\n",
    "\n",
    "1. Create a column for whether each row is a digit or a letter\n",
    "2. Choose an evaluation metric \n",
    "3. Choose several candidate models to train\n",
    "4. Divide data to reserve a validation set that will NOT be used in training/testing\n",
    "5. K-fold train/test\n",
    "    1. Create train/test splits from the non-validation dataset \n",
    "    2. Train each candidate model (best practice: use the same split for all models)\n",
    "    3. Apply the model the the test split \n",
    "    4. (*Optional*) Perform hyper-parametric search\n",
    "    5. Record the model evaluation metrics\n",
    "    6. Repeat with a new train/test split\n",
    "6. Promote winner, apply model to validation set\n",
    "7. (*Optional*) Perform hyper-parametric search, if applicable\n",
    "8. Report model performance"
   ]
  },
  {
   "cell_type": "markdown",
   "metadata": {},
   "source": [
    "### Packages"
   ]
  },
  {
   "cell_type": "code",
   "execution_count": null,
   "metadata": {},
   "outputs": [],
   "source": [
    "# Install required packages (once per virtual environment)\n",
    "# %pip install -q numpy pandas matplotlib seaborn scikit-learn tensorflow xgboost\n",
    "# %pip install -q emnist\n",
    "# %reset -f"
   ]
  },
  {
   "cell_type": "code",
   "execution_count": null,
   "metadata": {},
   "outputs": [
    {
     "name": "stderr",
     "output_type": "stream",
     "text": [
      "2024-02-11 23:39:52.909634: I tensorflow/core/platform/cpu_feature_guard.cc:182] This TensorFlow binary is optimized to use available CPU instructions in performance-critical operations.\n",
      "To enable the following instructions: AVX2 FMA, in other operations, rebuild TensorFlow with the appropriate compiler flags.\n"
     ]
    }
   ],
   "source": [
    "import os\n",
    "import string\n",
    "import random\n",
    "import numpy as np\n",
    "import pandas as pd\n",
    "import matplotlib.pyplot as plt\n",
    "import seaborn as sns\n",
    "import emnist\n",
    "from IPython.display import display, Markdown\n",
    "\n",
    "\n",
    "# ML packages\n",
    "# Random Forest\n",
    "from sklearn.ensemble import RandomForestClassifier\n",
    "from sklearn.metrics import confusion_matrix, accuracy_score, precision_score, recall_score, f1_score\n",
    "# Logistic Regression\n",
    "from sklearn.linear_model import LogisticRegression\n",
    "from sklearn.preprocessing import StandardScaler\n",
    "# XGBoost (SVM)\n",
    "from xgboost import XGBClassifier\n",
    "# Deep Learning\n",
    "import tensorflow as tf\n",
    "from tensorflow import keras\n",
    "from tensorflow.keras.models import Sequential\n",
    "from tensorflow.keras.layers import Dense, Flatten\n",
    "\n",
    "# Constants\n",
    "SIZE = 28\n",
    "REBUILD = True\n",
    "os.environ['TF_CPP_MIN_LOG_LEVEL'] = '2' # or 3 to suppress all warnings"
   ]
  },
  {
   "cell_type": "markdown",
   "metadata": {},
   "source": [
    "### Helper Functions"
   ]
  },
  {
   "cell_type": "code",
   "execution_count": null,
   "metadata": {},
   "outputs": [],
   "source": [
    "def int_to_char(label):\n",
    "    \"\"\"Convert an integer label to the corresponding uppercase character.\"\"\"\n",
    "    if label < 10:\n",
    "        return str(label)\n",
    "    elif label < 36:\n",
    "        return chr(label - 10 + ord('A'))\n",
    "    else:\n",
    "        return chr(label - 36 + ord('a'))\n",
    "\n",
    "def show_image(row):\n",
    "    \"\"\"Display a single image and its corresponding label.\"\"\"\n",
    "    image = row['image']\n",
    "    label = row['label']\n",
    "    plt.imshow(image, cmap='gray')\n",
    "    plt.title('Label: ' + int_to_char(label))\n",
    "    plt.axis('off')\n",
    "    plt.show()\n",
    "\n",
    "def show_grid(data, title=None, num_cols=5, figsize=(20, 10)):\n",
    "    \"\"\"\n",
    "    Display a list of images as a grid of num_cols columns.\n",
    "    images: a list of images, each represented as a 28x28 numpy array\n",
    "    labels: a list of labels, one for each image\n",
    "    title: (optional) a title for the plot\n",
    "    num_cols: (optional) number of columns to use in the grid\n",
    "    figsize: (optional) size of the figure\n",
    "    \"\"\"\n",
    "    num_images = len(data)\n",
    "    num_rows = (num_images - 1) // num_cols + 1\n",
    "    fig, axes = plt.subplots(num_rows, num_cols, figsize=figsize)\n",
    "    if title is not None:\n",
    "        fig.suptitle(title, fontsize=16)\n",
    "    for i in range(num_rows):\n",
    "        for j in range(num_cols):\n",
    "            index = i * num_cols + j\n",
    "            if index < num_images:\n",
    "                axes[i, j].imshow(data.iloc[index]['image'], cmap='gray')\n",
    "                axes[i, j].axis('off')\n",
    "                label = int_to_char(data.iloc[index]['label'])\n",
    "                axes[i, j].set_title(label)\n",
    "    plt.show()\n",
    "\n",
    "# Get a random image of a given label from the dataset\n",
    "def get_image_by_label(data, label):\n",
    "    \"\"\"Get a random image of a given label from the dataset.\"\"\"\n",
    "    images = data[data['label'] == label]['image'].tolist()\n",
    "    return random.choice(images)\n",
    "\n",
    "# Plot the training and validation accuracy during the training of a model\n",
    "def plot_accuracy(history):\n",
    "    \"\"\"Plot the training and validation accuracy during the training of a model.\"\"\"\n",
    "    acc = history.history['accuracy']\n",
    "    val_acc = history.history['val_accuracy']\n",
    "    epochs = range(1, len(acc) + 1)\n",
    "    plt.plot(epochs, acc, 'bo', label='Training accuracy')\n",
    "    plt.plot(epochs, val_acc, 'b', label='Validation accuracy')\n",
    "    plt.title('Training and validation accuracy')\n",
    "    plt.xlabel('Epochs')\n",
    "    plt.ylabel('Accuracy')\n",
    "    plt.legend()\n",
    "    plt.show()\n",
    "\n",
    "# Plot the training and validation loss during the training of a model\n",
    "def plot_loss(history):\n",
    "    \"\"\"Plot the training and validation loss during the training of a model.\"\"\"\n",
    "    loss = history.history['loss']\n",
    "    val_loss = history.history['val_loss']\n",
    "    epochs = range(1, len(loss) + 1)\n",
    "    plt.plot(epochs, loss, 'bo', label='Training loss')\n",
    "    plt.plot(epochs, val_loss, 'b', label='Validation loss')\n",
    "    plt.title('Training and validation loss')\n",
    "    plt.xlabel('Epochs')\n",
    "    plt.ylabel('Loss')\n",
    "    plt.legend()\n",
    "    plt.show()\n",
    "\n",
    "# Normalize the pixel values of the images in the dataset to have zero mean and unit variance\n",
    "# This is a common preprocessing step for neural networks, but may not be necessary in all cases\n",
    "def normalize_images(images):\n",
    "    \"\"\"Normalize the pixel values of the images in the dataset to have zero mean and unit variance.\"\"\"\n",
    "    images = np.array(images)\n",
    "    mean = images.mean()\n",
    "    std = images.std()\n",
    "    images = (images - mean) / std\n",
    "    return images.tolist()\n",
    "\n",
    "# Display metrics for a model\n",
    "def display_metrics(task, model_name, metrics_dict):\n",
    "    \"\"\"Display performance metrics and confusion matrix for a model.\"\"\"\n",
    "    metrics_df = pd.DataFrame()\n",
    "    cm_df = pd.DataFrame()\n",
    "    for key, value in metrics_dict[task][model_name].items():\n",
    "        if type(value) == np.ndarray:\n",
    "            cm_df = pd.DataFrame(value, index=['actual letter', 'actual number'], columns=['predicted letter', 'predicted number'])\n",
    "        else:\n",
    "            metrics_df[key] = [value]\n",
    "    display(Markdown(f'# Performance Metrics: {model_name}'))\n",
    "    display(metrics_df)\n",
    "    display(Markdown(f'# Confusion Matrix: {model_name}'))\n",
    "    display(cm_df)"
   ]
  },
  {
   "cell_type": "markdown",
   "metadata": {},
   "source": [
    "### Load Data"
   ]
  },
  {
   "cell_type": "code",
   "execution_count": null,
   "metadata": {},
   "outputs": [
    {
     "data": {
      "image/png": "[encoded data removed]",
      "text/plain": [
       "<Figure size 640x480 with 1 Axes>"
      ]
     },
     "metadata": {},
     "output_type": "display_data"
    },
    {
     "data": {
      "image/png": "[encoded data removed]",
      "text/plain": [
       "<Figure size 2000x1000 with 25 Axes>"
      ]
     },
     "metadata": {},
     "output_type": "display_data"
    }
   ],
   "source": [
    "# Extract the training split as images and labels\n",
    "image, label = emnist.extract_training_samples('byclass')\n",
    "\n",
    "# Add columns for each pixel value (28x28 = 784 columns)\n",
    "train = pd.DataFrame()\n",
    "\n",
    "# Add a column with the image data as a 28x28 array\n",
    "train['image'] = list(image)\n",
    "train['image_flat'] = train['image'].apply(lambda x: np.array(x).reshape(-1))\n",
    "\n",
    "# Add a column showing the label\n",
    "train['label'] = label\n",
    "\n",
    "# Convert labels to characters\n",
    "class_label = np.array([int_to_char(l) for l in label])\n",
    "\n",
    "# Add a column with the character corresponding to the label\n",
    "train['class'] = class_label\n",
    "\n",
    "# Repeat for the test split\n",
    "image, label = emnist.extract_test_samples('byclass')\n",
    "class_label = np.array([int_to_char(l) for l in label])\n",
    "valid = pd.DataFrame()\n",
    "valid['image'] = list(image)\n",
    "valid['image_flat'] = valid['image'].apply(lambda x: np.array(x).reshape(-1))\n",
    "valid['label'] = label\n",
    "valid['class'] = class_label\n",
    "\n",
    "\n",
    "# Using the helper functions\n",
    "\n",
    "# Plot a random image from the training set\n",
    "index = np.random.randint(0, len(train))\n",
    "show_image(train.iloc[index])\n",
    "\n",
    "# Show a random set of 25 images in a 5x5 grid\n",
    "show_grid(train.sample(25), title='Random 25 images')\n",
    "\n",
    "# Show the first 25 images in a 5x5 grid\n",
    "# show_grid(train[:25], title='First 25 images')"
   ]
  },
  {
   "cell_type": "markdown",
   "metadata": {},
   "source": [
    "### Subset and Process Data"
   ]
  },
  {
   "cell_type": "code",
   "execution_count": null,
   "metadata": {},
   "outputs": [],
   "source": [
    "# Sample 10% of the original `train` and `valid` data for training speed\n",
    "train_sampled = train.sample(frac=0.1, random_state=1)  # Use random_state for reproducibility\n",
    "train_sampled.reset_index(drop=True, inplace=True)\n",
    "\n",
    "valid_sampled = valid.sample(frac=0.1, random_state=1)  # Use random_state for reproducibility\n",
    "valid_sampled.reset_index(drop=True, inplace=True)\n",
    "\n",
    "# Convert labels to 'letter' or 'number'\n",
    "train_sampled['label_letter_number'] = train_sampled['label'].apply(lambda x: 'letter' if x > 9 else 'number')\n",
    "valid_sampled['label_letter_number'] = valid_sampled['label'].apply(lambda x: 'letter' if x > 9 else 'number')\n",
    "\n",
    "# Create a dictionary for performance metrics\n",
    "metrics_dict = {}\n",
    "\n",
    "# Show grid of the first 25 images from the sampled training set\n",
    "# (Ensure the function `show_grid` can handle showing images from the `train_sampled` DataFrame)\n",
    "# show_grid(train_sampled[:25], title=\"First 25 images from sampled data\")"
   ]
  },
  {
   "cell_type": "code",
   "execution_count": null,
   "metadata": {},
   "outputs": [],
   "source": [
    "metrics_dict = {\n",
    "    'letter_vs_number' : { \n",
    "        'logistic_regression': {\n",
    "            'confusion_matrix': [],\n",
    "            'accuracy': [],\n",
    "            'precision': [],\n",
    "            'recall': [],\n",
    "            'f1': []\n",
    "        },\n",
    "        'xgboost': {\n",
    "            'confusion_matrix': [],\n",
    "            'accuracy': [],\n",
    "            'precision': [],\n",
    "            'recall': [],\n",
    "            'f1': []\n",
    "        },\n",
    "        'random_forest': {\n",
    "            'confusion_matrix': [],\n",
    "            'accuracy': [],\n",
    "            'precision': [],\n",
    "            'recall': [],\n",
    "            'f1': []\n",
    "        },\n",
    "        'neural_network': {\n",
    "            'confusion_matrix': [],\n",
    "            'accuracy': [],\n",
    "            'precision': [],\n",
    "            'recall': [],\n",
    "            'f1': []\n",
    "        }\n",
    "    }\n",
    "}"
   ]
  },
  {
   "cell_type": "markdown",
   "metadata": {},
   "source": [
    "### Random Forest"
   ]
  },
  {
   "cell_type": "code",
   "execution_count": null,
   "metadata": {},
   "outputs": [
    {
     "data": {
      "text/markdown": [
       "# Performance Metrics: random_forest"
      ],
      "text/plain": [
       "<IPython.core.display.Markdown object>"
      ]
     },
     "metadata": {},
     "output_type": "display_data"
    },
    {
     "data": {
      "text/html": [
       "<div>\n",
       "<style scoped>\n",
       "    .dataframe tbody tr th:only-of-type {\n",
       "        vertical-align: middle;\n",
       "    }\n",
       "\n",
       "    .dataframe tbody tr th {\n",
       "        vertical-align: top;\n",
       "    }\n",
       "\n",
       "    .dataframe thead th {\n",
       "        text-align: right;\n",
       "    }\n",
       "</style>\n",
       "<table border=\"1\" class=\"dataframe\">\n",
       "  <thead>\n",
       "    <tr style=\"text-align: right;\">\n",
       "      <th></th>\n",
       "      <th>accuracy</th>\n",
       "      <th>precision</th>\n",
       "      <th>recall</th>\n",
       "      <th>f1</th>\n",
       "    </tr>\n",
       "  </thead>\n",
       "  <tbody>\n",
       "    <tr>\n",
       "      <th>0</th>\n",
       "      <td>0.872765</td>\n",
       "      <td>0.865595</td>\n",
       "      <td>0.87943</td>\n",
       "      <td>0.872458</td>\n",
       "    </tr>\n",
       "  </tbody>\n",
       "</table>\n",
       "</div>"
      ],
      "text/plain": [
       "   accuracy  precision   recall        f1\n",
       "0  0.872765   0.865595  0.87943  0.872458"
      ]
     },
     "metadata": {},
     "output_type": "display_data"
    },
    {
     "data": {
      "text/markdown": [
       "# Confusion Matrix: random_forest"
      ],
      "text/plain": [
       "<IPython.core.display.Markdown object>"
      ]
     },
     "metadata": {},
     "output_type": "display_data"
    },
    {
     "data": {
      "text/html": [
       "<div>\n",
       "<style scoped>\n",
       "    .dataframe tbody tr th:only-of-type {\n",
       "        vertical-align: middle;\n",
       "    }\n",
       "\n",
       "    .dataframe tbody tr th {\n",
       "        vertical-align: top;\n",
       "    }\n",
       "\n",
       "    .dataframe thead th {\n",
       "        text-align: right;\n",
       "    }\n",
       "</style>\n",
       "<table border=\"1\" class=\"dataframe\">\n",
       "  <thead>\n",
       "    <tr style=\"text-align: right;\">\n",
       "      <th></th>\n",
       "      <th>predicted letter</th>\n",
       "      <th>predicted number</th>\n",
       "    </tr>\n",
       "  </thead>\n",
       "  <tbody>\n",
       "    <tr>\n",
       "      <th>actual letter</th>\n",
       "      <td>5062</td>\n",
       "      <td>694</td>\n",
       "    </tr>\n",
       "    <tr>\n",
       "      <th>actual number</th>\n",
       "      <td>786</td>\n",
       "      <td>5090</td>\n",
       "    </tr>\n",
       "  </tbody>\n",
       "</table>\n",
       "</div>"
      ],
      "text/plain": [
       "               predicted letter  predicted number\n",
       "actual letter              5062               694\n",
       "actual number               786              5090"
      ]
     },
     "metadata": {},
     "output_type": "display_data"
    }
   ],
   "source": [
    "# Update task and model information\n",
    "task = 'letter_vs_number'\n",
    "model_name = 'random_forest'\n",
    "metrics_dict[task] = {model_name: {}}\n",
    "\n",
    "# Initialize random forest classifier\n",
    "rf_clf = RandomForestClassifier(n_estimators=100, random_state=42)\n",
    "\n",
    "# Prepare the data (assuming 'image_flat' contains the flattened image data)\n",
    "X_train = np.array(train_sampled['image_flat'].tolist())\n",
    "y_train = train_sampled['label_letter_number']\n",
    "X_valid = np.array(valid_sampled['image_flat'].tolist())\n",
    "y_valid = valid_sampled['label_letter_number']\n",
    "\n",
    "# Train the model\n",
    "rf_clf.fit(X_train, y_train)\n",
    "\n",
    "# Predict on validation set\n",
    "y_pred = rf_clf.predict(X_valid)\n",
    "\n",
    "# Calculate performance metrics (Note: Adjusted for binary classification with string labels)\n",
    "acc = accuracy_score(y_valid, y_pred)\n",
    "prec = precision_score(y_valid, y_pred, pos_label='number')  \n",
    "rec = recall_score(y_valid, y_pred, pos_label='number')\n",
    "f1 = f1_score(y_valid, y_pred, pos_label='number')\n",
    "cm = confusion_matrix(y_valid, y_pred, labels=['number', 'letter'])  # Explicitly define the order of classes\n",
    "\n",
    "# Store performance metrics in dictionary\n",
    "metrics_dict[task][model_name] = {'accuracy': acc,\n",
    "                                  'precision': prec,\n",
    "                                  'recall': rec,\n",
    "                                  'f1': f1,\n",
    "                                  'confusion_matrix': cm}\n",
    "\n",
    "# Display performance metrics\n",
    "display_metrics(task, model_name, metrics_dict)"
   ]
  },
  {
   "cell_type": "markdown",
   "metadata": {},
   "source": [
    "### Logistic Regression"
   ]
  },
  {
   "cell_type": "code",
   "execution_count": null,
   "metadata": {},
   "outputs": [
    {
     "data": {
      "text/markdown": [
       "# Performance Metrics: logistic_regression"
      ],
      "text/plain": [
       "<IPython.core.display.Markdown object>"
      ]
     },
     "metadata": {},
     "output_type": "display_data"
    },
    {
     "data": {
      "text/html": [
       "<div>\n",
       "<style scoped>\n",
       "    .dataframe tbody tr th:only-of-type {\n",
       "        vertical-align: middle;\n",
       "    }\n",
       "\n",
       "    .dataframe tbody tr th {\n",
       "        vertical-align: top;\n",
       "    }\n",
       "\n",
       "    .dataframe thead th {\n",
       "        text-align: right;\n",
       "    }\n",
       "</style>\n",
       "<table border=\"1\" class=\"dataframe\">\n",
       "  <thead>\n",
       "    <tr style=\"text-align: right;\">\n",
       "      <th></th>\n",
       "      <th>accuracy</th>\n",
       "      <th>precision</th>\n",
       "      <th>recall</th>\n",
       "      <th>f1</th>\n",
       "    </tr>\n",
       "  </thead>\n",
       "  <tbody>\n",
       "    <tr>\n",
       "      <th>0</th>\n",
       "      <td>0.737792</td>\n",
       "      <td>0.726861</td>\n",
       "      <td>0.753127</td>\n",
       "      <td>0.739761</td>\n",
       "    </tr>\n",
       "  </tbody>\n",
       "</table>\n",
       "</div>"
      ],
      "text/plain": [
       "   accuracy  precision    recall        f1\n",
       "0  0.737792   0.726861  0.753127  0.739761"
      ]
     },
     "metadata": {},
     "output_type": "display_data"
    },
    {
     "data": {
      "text/markdown": [
       "# Confusion Matrix: logistic_regression"
      ],
      "text/plain": [
       "<IPython.core.display.Markdown object>"
      ]
     },
     "metadata": {},
     "output_type": "display_data"
    },
    {
     "data": {
      "text/html": [
       "<div>\n",
       "<style scoped>\n",
       "    .dataframe tbody tr th:only-of-type {\n",
       "        vertical-align: middle;\n",
       "    }\n",
       "\n",
       "    .dataframe tbody tr th {\n",
       "        vertical-align: top;\n",
       "    }\n",
       "\n",
       "    .dataframe thead th {\n",
       "        text-align: right;\n",
       "    }\n",
       "</style>\n",
       "<table border=\"1\" class=\"dataframe\">\n",
       "  <thead>\n",
       "    <tr style=\"text-align: right;\">\n",
       "      <th></th>\n",
       "      <th>predicted letter</th>\n",
       "      <th>predicted number</th>\n",
       "    </tr>\n",
       "  </thead>\n",
       "  <tbody>\n",
       "    <tr>\n",
       "      <th>actual letter</th>\n",
       "      <td>4335</td>\n",
       "      <td>1421</td>\n",
       "    </tr>\n",
       "    <tr>\n",
       "      <th>actual number</th>\n",
       "      <td>1629</td>\n",
       "      <td>4247</td>\n",
       "    </tr>\n",
       "  </tbody>\n",
       "</table>\n",
       "</div>"
      ],
      "text/plain": [
       "               predicted letter  predicted number\n",
       "actual letter              4335              1421\n",
       "actual number              1629              4247"
      ]
     },
     "metadata": {},
     "output_type": "display_data"
    }
   ],
   "source": [
    "# Update task and model information\n",
    "task = 'letter_vs_number'\n",
    "model_name = 'logistic_regression'\n",
    "\n",
    "# Scale the data\n",
    "scaler = StandardScaler()\n",
    "# Flatten the images and scale the data\n",
    "X_train_scaled = scaler.fit_transform(np.array(train_sampled['image_flat'].tolist()))\n",
    "X_valid_scaled = scaler.transform(np.array(valid_sampled['image_flat'].tolist()))\n",
    "\n",
    "# Initialize logistic regression classifier\n",
    "lr_clf = LogisticRegression(max_iter=1000, random_state=42)\n",
    "\n",
    "# Train the logistic regression model using the new labels\n",
    "lr_clf.fit(X_train_scaled, train_sampled['label_letter_number'])\n",
    "\n",
    "# Predict on the validation set\n",
    "y_pred = lr_clf.predict(X_valid_scaled)\n",
    "\n",
    "# Calculate performance metrics\n",
    "# Note: Since we are now dealing with string labels ('letter', 'number'), update metric calculations accordingly.\n",
    "acc = accuracy_score(valid_sampled['label_letter_number'], y_pred)\n",
    "# For binary classification, specify the positive label explicitly if needed\n",
    "prec = precision_score(valid_sampled['label_letter_number'], y_pred, pos_label='number')\n",
    "rec = recall_score(valid_sampled['label_letter_number'], y_pred, pos_label='number')\n",
    "f1 = f1_score(valid_sampled['label_letter_number'], y_pred, pos_label='number')\n",
    "cm = confusion_matrix(valid_sampled['label_letter_number'], y_pred, labels=['number', 'letter'])\n",
    "\n",
    "# Store performance metrics in dictionary\n",
    "metrics_dict[task][model_name] = {\n",
    "    'accuracy': acc,\n",
    "    'precision': prec,\n",
    "    'recall': rec,\n",
    "    'f1': f1,\n",
    "    'confusion_matrix': cm\n",
    "}\n",
    "\n",
    "# Display performance metrics\n",
    "display_metrics(task, model_name, metrics_dict)"
   ]
  },
  {
   "cell_type": "markdown",
   "metadata": {},
   "source": [
    "### XGBoost"
   ]
  },
  {
   "cell_type": "code",
   "execution_count": null,
   "metadata": {},
   "outputs": [
    {
     "data": {
      "text/markdown": [
       "# Performance Metrics: xgboost"
      ],
      "text/plain": [
       "<IPython.core.display.Markdown object>"
      ]
     },
     "metadata": {},
     "output_type": "display_data"
    },
    {
     "data": {
      "text/html": [
       "<div>\n",
       "<style scoped>\n",
       "    .dataframe tbody tr th:only-of-type {\n",
       "        vertical-align: middle;\n",
       "    }\n",
       "\n",
       "    .dataframe tbody tr th {\n",
       "        vertical-align: top;\n",
       "    }\n",
       "\n",
       "    .dataframe thead th {\n",
       "        text-align: right;\n",
       "    }\n",
       "</style>\n",
       "<table border=\"1\" class=\"dataframe\">\n",
       "  <thead>\n",
       "    <tr style=\"text-align: right;\">\n",
       "      <th></th>\n",
       "      <th>accuracy</th>\n",
       "      <th>precision</th>\n",
       "      <th>recall</th>\n",
       "      <th>f1</th>\n",
       "    </tr>\n",
       "  </thead>\n",
       "  <tbody>\n",
       "    <tr>\n",
       "      <th>0</th>\n",
       "      <td>0.864856</td>\n",
       "      <td>0.870141</td>\n",
       "      <td>0.86096</td>\n",
       "      <td>0.865526</td>\n",
       "    </tr>\n",
       "  </tbody>\n",
       "</table>\n",
       "</div>"
      ],
      "text/plain": [
       "   accuracy  precision   recall        f1\n",
       "0  0.864856   0.870141  0.86096  0.865526"
      ]
     },
     "metadata": {},
     "output_type": "display_data"
    },
    {
     "data": {
      "text/markdown": [
       "# Confusion Matrix: xgboost"
      ],
      "text/plain": [
       "<IPython.core.display.Markdown object>"
      ]
     },
     "metadata": {},
     "output_type": "display_data"
    },
    {
     "data": {
      "text/html": [
       "<div>\n",
       "<style scoped>\n",
       "    .dataframe tbody tr th:only-of-type {\n",
       "        vertical-align: middle;\n",
       "    }\n",
       "\n",
       "    .dataframe tbody tr th {\n",
       "        vertical-align: top;\n",
       "    }\n",
       "\n",
       "    .dataframe thead th {\n",
       "        text-align: right;\n",
       "    }\n",
       "</style>\n",
       "<table border=\"1\" class=\"dataframe\">\n",
       "  <thead>\n",
       "    <tr style=\"text-align: right;\">\n",
       "      <th></th>\n",
       "      <th>predicted letter</th>\n",
       "      <th>predicted number</th>\n",
       "    </tr>\n",
       "  </thead>\n",
       "  <tbody>\n",
       "    <tr>\n",
       "      <th>actual letter</th>\n",
       "      <td>5001</td>\n",
       "      <td>755</td>\n",
       "    </tr>\n",
       "    <tr>\n",
       "      <th>actual number</th>\n",
       "      <td>817</td>\n",
       "      <td>5059</td>\n",
       "    </tr>\n",
       "  </tbody>\n",
       "</table>\n",
       "</div>"
      ],
      "text/plain": [
       "               predicted letter  predicted number\n",
       "actual letter              5001               755\n",
       "actual number               817              5059"
      ]
     },
     "metadata": {},
     "output_type": "display_data"
    }
   ],
   "source": [
    "# Update task and model information for letter vs. number classification\n",
    "task = 'letter_vs_number'\n",
    "model_name = 'xgboost'\n",
    "\n",
    "# Initialize XGBoost classifier with specified random state for reproducibility\n",
    "xgb_clf = XGBClassifier(n_estimators=100, random_state=42, use_label_encoder=False, eval_metric='logloss')\n",
    "\n",
    "# Train the model on the sampled training set\n",
    "# Note: XGBoost expects numerical labels for classification, so we convert 'number' to 0 and 'letter' to 1\n",
    "y_train = train_sampled['label_letter_number'].map({'number': 0, 'letter': 1})\n",
    "y_valid = valid_sampled['label_letter_number'].map({'number': 0, 'letter': 1})\n",
    "\n",
    "xgb_clf.fit(np.array(train_sampled['image_flat'].tolist()), y_train)\n",
    "\n",
    "# Predict on the sampled validation set\n",
    "y_pred = xgb_clf.predict(np.array(valid_sampled['image_flat'].tolist()))\n",
    "\n",
    "# Calculate performance metrics\n",
    "# Note: The labels are numeric here, so we use them directly without specifying pos_label\n",
    "acc = accuracy_score(y_valid, y_pred)\n",
    "prec = precision_score(y_valid, y_pred)\n",
    "rec = recall_score(y_valid, y_pred)\n",
    "f1 = f1_score(y_valid, y_pred)\n",
    "cm = confusion_matrix(y_valid, y_pred)\n",
    "\n",
    "# Store performance metrics in the dictionary\n",
    "metrics_dict[task][model_name] = {\n",
    "    'accuracy': acc,\n",
    "    'precision': prec,\n",
    "    'recall': rec,\n",
    "    'f1': f1,\n",
    "    'confusion_matrix': cm\n",
    "}\n",
    "\n",
    "# Display performance metrics\n",
    "display_metrics(task, model_name, metrics_dict)"
   ]
  },
  {
   "cell_type": "markdown",
   "metadata": {},
   "source": [
    "### Neural Network"
   ]
  },
  {
   "cell_type": "code",
   "execution_count": null,
   "metadata": {},
   "outputs": [
    {
     "name": "stdout",
     "output_type": "stream",
     "text": [
      "Epoch 1/10\n",
      "2182/2182 [==============================] - 6s 2ms/step - loss: 0.3820 - accuracy: 0.8217 - val_loss: 0.3432 - val_accuracy: 0.8468\n",
      "Epoch 2/10\n",
      "2182/2182 [==============================] - 6s 3ms/step - loss: 0.3005 - accuracy: 0.8652 - val_loss: 0.3001 - val_accuracy: 0.8680\n",
      "Epoch 3/10\n",
      "2182/2182 [==============================] - 5s 2ms/step - loss: 0.2709 - accuracy: 0.8797 - val_loss: 0.2842 - val_accuracy: 0.8725\n",
      "Epoch 4/10\n",
      "2182/2182 [==============================] - 5s 2ms/step - loss: 0.2518 - accuracy: 0.8889 - val_loss: 0.2814 - val_accuracy: 0.8734\n",
      "Epoch 5/10\n",
      "2182/2182 [==============================] - 5s 2ms/step - loss: 0.2376 - accuracy: 0.8950 - val_loss: 0.2738 - val_accuracy: 0.8802\n",
      "Epoch 6/10\n",
      "2182/2182 [==============================] - 6s 3ms/step - loss: 0.2291 - accuracy: 0.8975 - val_loss: 0.2813 - val_accuracy: 0.8792\n",
      "Epoch 7/10\n",
      "2182/2182 [==============================] - 5s 2ms/step - loss: 0.2187 - accuracy: 0.9027 - val_loss: 0.2718 - val_accuracy: 0.8790\n",
      "Epoch 8/10\n",
      "2182/2182 [==============================] - 5s 2ms/step - loss: 0.2118 - accuracy: 0.9051 - val_loss: 0.2700 - val_accuracy: 0.8833\n",
      "Epoch 9/10\n",
      "2182/2182 [==============================] - 5s 2ms/step - loss: 0.2036 - accuracy: 0.9109 - val_loss: 0.2869 - val_accuracy: 0.8784\n",
      "Epoch 10/10\n",
      "2182/2182 [==============================] - 4s 2ms/step - loss: 0.1968 - accuracy: 0.9130 - val_loss: 0.2815 - val_accuracy: 0.8806\n",
      "364/364 [==============================] - 0s 1ms/step - loss: 0.2815 - accuracy: 0.8806\n",
      "364/364 [==============================] - 0s 981us/step\n"
     ]
    },
    {
     "data": {
      "text/markdown": [
       "# Performance Metrics: neural_network"
      ],
      "text/plain": [
       "<IPython.core.display.Markdown object>"
      ]
     },
     "metadata": {},
     "output_type": "display_data"
    },
    {
     "data": {
      "text/html": [
       "<div>\n",
       "<style scoped>\n",
       "    .dataframe tbody tr th:only-of-type {\n",
       "        vertical-align: middle;\n",
       "    }\n",
       "\n",
       "    .dataframe tbody tr th {\n",
       "        vertical-align: top;\n",
       "    }\n",
       "\n",
       "    .dataframe thead th {\n",
       "        text-align: right;\n",
       "    }\n",
       "</style>\n",
       "<table border=\"1\" class=\"dataframe\">\n",
       "  <thead>\n",
       "    <tr style=\"text-align: right;\">\n",
       "      <th></th>\n",
       "      <th>accuracy</th>\n",
       "      <th>precision</th>\n",
       "      <th>recall</th>\n",
       "      <th>f1</th>\n",
       "    </tr>\n",
       "  </thead>\n",
       "  <tbody>\n",
       "    <tr>\n",
       "      <th>0</th>\n",
       "      <td>0.880588</td>\n",
       "      <td>0.899982</td>\n",
       "      <td>0.859088</td>\n",
       "      <td>0.87906</td>\n",
       "    </tr>\n",
       "  </tbody>\n",
       "</table>\n",
       "</div>"
      ],
      "text/plain": [
       "   accuracy  precision    recall       f1\n",
       "0  0.880588   0.899982  0.859088  0.87906"
      ]
     },
     "metadata": {},
     "output_type": "display_data"
    },
    {
     "data": {
      "text/markdown": [
       "# Confusion Matrix: neural_network"
      ],
      "text/plain": [
       "<IPython.core.display.Markdown object>"
      ]
     },
     "metadata": {},
     "output_type": "display_data"
    },
    {
     "data": {
      "text/html": [
       "<div>\n",
       "<style scoped>\n",
       "    .dataframe tbody tr th:only-of-type {\n",
       "        vertical-align: middle;\n",
       "    }\n",
       "\n",
       "    .dataframe tbody tr th {\n",
       "        vertical-align: top;\n",
       "    }\n",
       "\n",
       "    .dataframe thead th {\n",
       "        text-align: right;\n",
       "    }\n",
       "</style>\n",
       "<table border=\"1\" class=\"dataframe\">\n",
       "  <thead>\n",
       "    <tr style=\"text-align: right;\">\n",
       "      <th></th>\n",
       "      <th>predicted letter</th>\n",
       "      <th>predicted number</th>\n",
       "    </tr>\n",
       "  </thead>\n",
       "  <tbody>\n",
       "    <tr>\n",
       "      <th>actual letter</th>\n",
       "      <td>5195</td>\n",
       "      <td>561</td>\n",
       "    </tr>\n",
       "    <tr>\n",
       "      <th>actual number</th>\n",
       "      <td>828</td>\n",
       "      <td>5048</td>\n",
       "    </tr>\n",
       "  </tbody>\n",
       "</table>\n",
       "</div>"
      ],
      "text/plain": [
       "               predicted letter  predicted number\n",
       "actual letter              5195               561\n",
       "actual number               828              5048"
      ]
     },
     "metadata": {},
     "output_type": "display_data"
    },
    {
     "data": {
      "image/png": "[encoded data removed]",
      "text/plain": [
       "<Figure size 640x480 with 1 Axes>"
      ]
     },
     "metadata": {},
     "output_type": "display_data"
    },
    {
     "data": {
      "image/png": "[encoded data removed]",
      "text/plain": [
       "<Figure size 640x480 with 1 Axes>"
      ]
     },
     "metadata": {},
     "output_type": "display_data"
    }
   ],
   "source": [
    "# Update task and model information for letter vs. number classification\n",
    "task = 'letter_vs_number'\n",
    "model_name = 'neural_network'\n",
    "\n",
    "# Set random seed for reproducibility\n",
    "tf.random.set_seed(42)\n",
    "\n",
    "# Assuming train_sampled and valid_sampled have been created and include the necessary data\n",
    "# Convert train images to tensor and normalize\n",
    "train_images = np.array(train_sampled['image'])\n",
    "train_images = np.array(list(map(lambda x: np.reshape(x, (28, 28, 1)), train_images))) / 255.0\n",
    "\n",
    "# Prepare train labels for binary classification ('number' as 0 and 'letter' as 1)\n",
    "train_labels = np.array(train_sampled['label_letter_number'].map({'number': 0, 'letter': 1}))\n",
    "\n",
    "# Convert validation images to tensor and normalize\n",
    "valid_images = np.array(valid_sampled['image'])\n",
    "valid_images = np.array(list(map(lambda x: np.reshape(x, (28, 28, 1)), valid_images))) / 255.0\n",
    "\n",
    "# Prepare validation labels for binary classification ('number' as 0 and 'letter' as 1)\n",
    "valid_labels = np.array(valid_sampled['label_letter_number'].map({'number': 0, 'letter': 1}))\n",
    "\n",
    "\n",
    "# Initialize neural network model\n",
    "model = Sequential([\n",
    "    keras.layers.InputLayer(input_shape=(28, 28, 1)),\n",
    "    keras.layers.Flatten(),\n",
    "    keras.layers.Dense(128, activation='relu'),\n",
    "    keras.layers.Dense(1, activation='sigmoid')  # Suitable for binary classification\n",
    "])\n",
    "\n",
    "# Compile the model for binary classification\n",
    "model.compile(optimizer='adam', loss='binary_crossentropy', metrics=['accuracy'])\n",
    "\n",
    "# Train the model\n",
    "history = model.fit(train_images, train_labels, epochs=10, validation_data=(valid_images, valid_labels))\n",
    "\n",
    "# Evaluate the model\n",
    "loss, acc = model.evaluate(valid_images, valid_labels)\n",
    "y_pred = (model.predict(valid_images) > 0.5).astype(int).flatten()\n",
    "\n",
    "# Calculate performance metrics\n",
    "prec = precision_score(valid_labels, y_pred)\n",
    "rec = recall_score(valid_labels, y_pred)\n",
    "f1 = f1_score(valid_labels, y_pred)\n",
    "cm = confusion_matrix(valid_labels, y_pred)\n",
    "\n",
    "# Store performance metrics in the dictionary\n",
    "metrics_dict[task][model_name] = {\n",
    "    'accuracy': acc,\n",
    "    'precision': prec,\n",
    "    'recall': rec,\n",
    "    'f1': f1,\n",
    "    'confusion_matrix': cm\n",
    "}\n",
    "\n",
    "# Display performance metrics\n",
    "display_metrics(task, model_name, metrics_dict)\n",
    "\n",
    "# Assuming plot_accuracy and plot_loss are functions that plot the training history\n",
    "plot_accuracy(history)\n",
    "plot_loss(history)"
   ]
  },
  {
   "cell_type": "markdown",
   "metadata": {},
   "source": [
    "### Model Comparison"
   ]
  },
  {
   "cell_type": "code",
   "execution_count": null,
   "metadata": {},
   "outputs": [
    {
     "data": {
      "text/html": [
       "<div>\n",
       "<style scoped>\n",
       "    .dataframe tbody tr th:only-of-type {\n",
       "        vertical-align: middle;\n",
       "    }\n",
       "\n",
       "    .dataframe tbody tr th {\n",
       "        vertical-align: top;\n",
       "    }\n",
       "\n",
       "    .dataframe thead th {\n",
       "        text-align: right;\n",
       "    }\n",
       "</style>\n",
       "<table border=\"1\" class=\"dataframe\">\n",
       "  <thead>\n",
       "    <tr style=\"text-align: right;\">\n",
       "      <th></th>\n",
       "      <th></th>\n",
       "      <th>accuracy</th>\n",
       "      <th>precision</th>\n",
       "      <th>recall</th>\n",
       "      <th>f1</th>\n",
       "      <th>confusion_matrix</th>\n",
       "    </tr>\n",
       "    <tr>\n",
       "      <th>model</th>\n",
       "      <th>metric</th>\n",
       "      <th></th>\n",
       "      <th></th>\n",
       "      <th></th>\n",
       "      <th></th>\n",
       "      <th></th>\n",
       "    </tr>\n",
       "  </thead>\n",
       "  <tbody>\n",
       "    <tr>\n",
       "      <th rowspan=\"4\" valign=\"top\">letter_vs_number</th>\n",
       "      <th>random_forest</th>\n",
       "      <td>0.872765</td>\n",
       "      <td>0.865595</td>\n",
       "      <td>0.879430</td>\n",
       "      <td>0.872458</td>\n",
       "      <td>[[5062, 694], [786, 5090]]</td>\n",
       "    </tr>\n",
       "    <tr>\n",
       "      <th>logistic_regression</th>\n",
       "      <td>0.737792</td>\n",
       "      <td>0.726861</td>\n",
       "      <td>0.753127</td>\n",
       "      <td>0.739761</td>\n",
       "      <td>[[4335, 1421], [1629, 4247]]</td>\n",
       "    </tr>\n",
       "    <tr>\n",
       "      <th>xgboost</th>\n",
       "      <td>0.864856</td>\n",
       "      <td>0.870141</td>\n",
       "      <td>0.860960</td>\n",
       "      <td>0.865526</td>\n",
       "      <td>[[5001, 755], [817, 5059]]</td>\n",
       "    </tr>\n",
       "    <tr>\n",
       "      <th>neural_network</th>\n",
       "      <td>0.880588</td>\n",
       "      <td>0.899982</td>\n",
       "      <td>0.859088</td>\n",
       "      <td>0.879060</td>\n",
       "      <td>[[5195, 561], [828, 5048]]</td>\n",
       "    </tr>\n",
       "  </tbody>\n",
       "</table>\n",
       "</div>"
      ],
      "text/plain": [
       "                                      accuracy  precision    recall        f1  \\\n",
       "model            metric                                                         \n",
       "letter_vs_number random_forest        0.872765   0.865595  0.879430  0.872458   \n",
       "                 logistic_regression  0.737792   0.726861  0.753127  0.739761   \n",
       "                 xgboost              0.864856   0.870141  0.860960  0.865526   \n",
       "                 neural_network       0.880588   0.899982  0.859088  0.879060   \n",
       "\n",
       "                                                  confusion_matrix  \n",
       "model            metric                                             \n",
       "letter_vs_number random_forest          [[5062, 694], [786, 5090]]  \n",
       "                 logistic_regression  [[4335, 1421], [1629, 4247]]  \n",
       "                 xgboost                [[5001, 755], [817, 5059]]  \n",
       "                 neural_network         [[5195, 561], [828, 5048]]  "
      ]
     },
     "metadata": {},
     "output_type": "display_data"
    }
   ],
   "source": [
    "# create an empty DataFrame to hold the results\n",
    "results_df = pd.DataFrame()\n",
    "\n",
    "# iterate over the keys in the metrics_dict\n",
    "for key in metrics_dict:\n",
    "    \n",
    "    # create a new DataFrame to hold the results for this key\n",
    "    df = pd.DataFrame.from_dict(metrics_dict[key], orient='index')\n",
    "    \n",
    "    # add a new row to the DataFrame indicating the model name and metric type\n",
    "    df = df.assign(model=key, metric=df.index)\n",
    "    \n",
    "    # set the index to the 'model' and 'metric' columns\n",
    "    df = df.set_index(['model', 'metric'])\n",
    "    \n",
    "    # append the results to the main DataFrame\n",
    "    results_df = pd.concat([results_df, df])\n",
    "\n",
    "# display the resulting table\n",
    "display(results_df)"
   ]
  },
  {
   "cell_type": "markdown",
   "metadata": {},
   "source": []
  }
 ],
 "metadata": {
  "language_info": {
   "name": "python"
  }
 },
 "nbformat": 4,
 "nbformat_minor": 2
}
